{
 "cells": [
  {
   "cell_type": "code",
   "execution_count": 4,
   "metadata": {},
   "outputs": [],
   "source": [
    "import vlmi"
   ]
  },
  {
   "cell_type": "code",
   "execution_count": 5,
   "metadata": {},
   "outputs": [
    {
     "name": "stdout",
     "output_type": "stream",
     "text": [
      "100000\n",
      "0.3066161999995529\n"
     ]
    }
   ],
   "source": [
    "try:\n",
    "    sample_data_1 = [[1,2,3]] * 100_000\n",
    "    sample_data_2 = [[1,2,3]]\n",
    "    vlmi.main(\n",
    "        is_parallel=True,\n",
    "        data=sample_data_1,\n",
    "    )\n",
    "except Exception as e:\n",
    "    print(\"something went wrong:\")\n",
    "    print(e)"
   ]
  }
 ],
 "metadata": {
  "kernelspec": {
   "display_name": "Python 3",
   "language": "python",
   "name": "python3"
  },
  "language_info": {
   "codemirror_mode": {
    "name": "ipython",
    "version": 3
   },
   "file_extension": ".py",
   "mimetype": "text/x-python",
   "name": "python",
   "nbconvert_exporter": "python",
   "pygments_lexer": "ipython3",
   "version": "3.11.0"
  }
 },
 "nbformat": 4,
 "nbformat_minor": 2
}
