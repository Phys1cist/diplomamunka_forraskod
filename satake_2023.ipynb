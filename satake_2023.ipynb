{
 "cells": [
  {
   "cell_type": "code",
   "execution_count": 1,
   "metadata": {},
   "outputs": [],
   "source": [
    "import numpy as np\n",
    "import matplotlib.pyplot as plt\n"
   ]
  },
  {
   "cell_type": "code",
   "execution_count": 21,
   "metadata": {},
   "outputs": [],
   "source": [
    "# somatic mutation rates per nucleotide per meter\n",
    "mu_g_S1 = 7.08e-9\n",
    "mu_g_S2 = 4.27e-9\n",
    "mu_g_F1 = 1.77e-9\n",
    "mu_g_F2 = 1.29e-9\n",
    "\n",
    "# somatic mutation rates per nucleotide per year\n",
    "mu_y_S1 = 7.58e-10\n",
    "mu_y_S2 = 7.85e-10\n",
    "mu_y_F1 = 9.63e-10\n",
    "mu_y_F2 = 6.46e-10\n",
    "\n",
    "#estimates ages\n",
    "y_S1 = 324.9\n",
    "y_S2 = 187\n",
    "y_F1 = 78.8\n",
    "y_F2 = 54.1\n",
    "\n",
    "# equations\n",
    "\n",
    "# somatic mutation rate per nucleotide per meter:\n",
    "def smrpnucpmet(b,R):\n",
    "    '''\n",
    "    b: slope of linear regression\n",
    "    R: number of callable sites\n",
    "    '''   \n",
    "    mu_g = b/(2*R)\n",
    "    return mu_g\n",
    "\n",
    "#somatic mutation rate per nucleotide per year:\n",
    "def smrpnucpyear(M, R, A):\n",
    "    '''\n",
    "    M: total number of SNVs\n",
    "    A: tree age\n",
    "    R: # of callable sites \n",
    "    '''\n",
    "    mu_y = M/(2*R*A)\n",
    "    return mu_y\n",
    "\n",
    "b_S1 = 5.503\n",
    "b_S2 = 2.740\n",
    "b_F1 = 1.149\n",
    "b_F2 = 0.679\n",
    "\n",
    "R_S1 =  b_S1/(2*mu_g_S1)\n",
    "R_S2 =  b_S2/(2*mu_g_S2)\n",
    "R_F1 =  b_F1/(2*mu_g_F1)\n",
    "R_F2 =  b_F2/(2*mu_g_F2)\n",
    "\n",
    "\n",
    "M_S1 = 2*mu_y_S1*R_S1*y_S1\n",
    "M_S2 = 2*mu_y_S2*R_S2*y_S2\n",
    "M_F1 = 2*mu_y_F1*R_F1*y_F1\n",
    "M_F2 = 2*mu_y_F2*R_F2*y_F2\n",
    "\n",
    "\n"
   ]
  },
  {
   "cell_type": "code",
   "execution_count": 22,
   "metadata": {},
   "outputs": [
    {
     "name": "stdout",
     "output_type": "stream",
     "text": [
      "388629943.50282484 320843091.3348946 324576271.18644065 263178294.57364342\n",
      "191.41905686440674 94.1963231850117 49.26055118644067 18.395425891472872\n"
     ]
    }
   ],
   "source": [
    "print(R_S1, R_S2, R_F1, R_F2)\n",
    "print(M_S1, M_S2, M_F1, M_F2)"
   ]
  }
 ],
 "metadata": {
  "kernelspec": {
   "display_name": "Python 3",
   "language": "python",
   "name": "python3"
  },
  "language_info": {
   "codemirror_mode": {
    "name": "ipython",
    "version": 3
   },
   "file_extension": ".py",
   "mimetype": "text/x-python",
   "name": "python",
   "nbconvert_exporter": "python",
   "pygments_lexer": "ipython3",
   "version": "3.11.0"
  }
 },
 "nbformat": 4,
 "nbformat_minor": 2
}
